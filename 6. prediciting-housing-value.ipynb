{
 "cells": [
  {
   "cell_type": "code",
   "execution_count": 1,
   "id": "d4d37060",
   "metadata": {
    "_cell_guid": "b1076dfc-b9ad-4769-8c92-a6c4dae69d19",
    "_uuid": "8f2839f25d086af736a60e9eeb907d3b93b6e0e5",
    "execution": {
     "iopub.execute_input": "2023-10-20T16:08:42.135445Z",
     "iopub.status.busy": "2023-10-20T16:08:42.134381Z",
     "iopub.status.idle": "2023-10-20T16:08:42.542574Z",
     "shell.execute_reply": "2023-10-20T16:08:42.541459Z"
    },
    "papermill": {
     "duration": 0.416292,
     "end_time": "2023-10-20T16:08:42.545428",
     "exception": false,
     "start_time": "2023-10-20T16:08:42.129136",
     "status": "completed"
    },
    "tags": []
   },
   "outputs": [
    {
     "name": "stdout",
     "output_type": "stream",
     "text": [
      "/kaggle/input/house-value/output.csv\n",
      "/kaggle/input/house-value/data.csv\n",
      "/kaggle/input/house-value/data.dat\n",
      "/kaggle/input/housedata/output.csv\n",
      "/kaggle/input/housedata/data.csv\n",
      "/kaggle/input/housedata/data.dat\n"
     ]
    }
   ],
   "source": [
    "# This Python 3 environment comes with many helpful analytics libraries installed\n",
    "# It is defined by the kaggle/python Docker image: https://github.com/kaggle/docker-python\n",
    "# For example, here's several helpful packages to load\n",
    "\n",
    "import numpy as np # linear algebra\n",
    "import pandas as pd # data processing, CSV file I/O (e.g. pd.read_csv)\n",
    "\n",
    "# Input data files are available in the read-only \"../input/\" directory\n",
    "# For example, running this (by clicking run or pressing Shift+Enter) will list all files under the input directory\n",
    "\n",
    "import os\n",
    "for dirname, _, filenames in os.walk('/kaggle/input'):\n",
    "    for filename in filenames:\n",
    "        print(os.path.join(dirname, filename))\n",
    "\n",
    "# You can write up to 20GB to the current directory (/kaggle/working/) that gets preserved as output when you create a version using \"Save & Run All\" \n",
    "# You can also write temporary files to /kaggle/temp/, but they won't be saved outside of the current session"
   ]
  },
  {
   "cell_type": "markdown",
   "id": "84684840",
   "metadata": {
    "papermill": {
     "duration": 0.002779,
     "end_time": "2023-10-20T16:08:42.554428",
     "exception": false,
     "start_time": "2023-10-20T16:08:42.551649",
     "status": "completed"
    },
    "tags": []
   },
   "source": []
  },
  {
   "cell_type": "code",
   "execution_count": 2,
   "id": "2b145ff7",
   "metadata": {
    "execution": {
     "iopub.execute_input": "2023-10-20T16:08:42.562906Z",
     "iopub.status.busy": "2023-10-20T16:08:42.562410Z",
     "iopub.status.idle": "2023-10-20T16:08:42.569904Z",
     "shell.execute_reply": "2023-10-20T16:08:42.568472Z"
    },
    "papermill": {
     "duration": 0.013959,
     "end_time": "2023-10-20T16:08:42.571840",
     "exception": true,
     "start_time": "2023-10-20T16:08:42.557881",
     "status": "failed"
    },
    "tags": []
   },
   "outputs": [
    {
     "ename": "SyntaxError",
     "evalue": "expected ':' (2007830342.py, line 9)",
     "output_type": "error",
     "traceback": [
      "\u001b[0;36m  Cell \u001b[0;32mIn[2], line 9\u001b[0;36m\u001b[0m\n\u001b[0;31m    for dirname, filenames in os.walk\u001b[0m\n\u001b[0m                                     ^\u001b[0m\n\u001b[0;31mSyntaxError\u001b[0m\u001b[0;31m:\u001b[0m expected ':'\n"
     ]
    }
   ],
   "source": [
    "import numpy as np #for linear algebra\n",
    "import pandas as pd #for data processing\n",
    "import matplotlib.pyplot as plt\n",
    "\n",
    "from scipy.stats import nora\n",
    "import seaborn as sns\n",
    "\n",
    "import os\n",
    "for dirname, filenames in os.walk"
   ]
  },
  {
   "cell_type": "code",
   "execution_count": null,
   "id": "dcac6651",
   "metadata": {
    "execution": {
     "iopub.execute_input": "2023-10-20T14:24:41.580001Z",
     "iopub.status.busy": "2023-10-20T14:24:41.579652Z",
     "iopub.status.idle": "2023-10-20T14:24:41.617632Z",
     "shell.execute_reply": "2023-10-20T14:24:41.616632Z",
     "shell.execute_reply.started": "2023-10-20T14:24:41.579974Z"
    },
    "papermill": {
     "duration": null,
     "end_time": null,
     "exception": null,
     "start_time": null,
     "status": "pending"
    },
    "tags": []
   },
   "outputs": [],
   "source": [
    "data=pd.read_csv(\"/kaggle/input/housedata/output.csv\")\n",
    "data.head(13)"
   ]
  },
  {
   "cell_type": "code",
   "execution_count": null,
   "id": "d57751f9",
   "metadata": {
    "execution": {
     "iopub.execute_input": "2023-10-20T14:27:07.245652Z",
     "iopub.status.busy": "2023-10-20T14:27:07.245182Z",
     "iopub.status.idle": "2023-10-20T14:27:07.272055Z",
     "shell.execute_reply": "2023-10-20T14:27:07.270940Z",
     "shell.execute_reply.started": "2023-10-20T14:27:07.245623Z"
    },
    "papermill": {
     "duration": null,
     "end_time": null,
     "exception": null,
     "start_time": null,
     "status": "pending"
    },
    "tags": []
   },
   "outputs": [],
   "source": [
    "#Information of data\n",
    "data.info()"
   ]
  },
  {
   "cell_type": "code",
   "execution_count": null,
   "id": "4ff71401",
   "metadata": {
    "execution": {
     "iopub.execute_input": "2023-10-20T14:27:37.260490Z",
     "iopub.status.busy": "2023-10-20T14:27:37.260006Z",
     "iopub.status.idle": "2023-10-20T14:27:37.325992Z",
     "shell.execute_reply": "2023-10-20T14:27:37.324936Z",
     "shell.execute_reply.started": "2023-10-20T14:27:37.260440Z"
    },
    "papermill": {
     "duration": null,
     "end_time": null,
     "exception": null,
     "start_time": null,
     "status": "pending"
    },
    "tags": []
   },
   "outputs": [],
   "source": [
    "data.describe()"
   ]
  },
  {
   "cell_type": "code",
   "execution_count": null,
   "id": "a50d2c41",
   "metadata": {
    "execution": {
     "iopub.execute_input": "2023-10-20T14:32:37.910250Z",
     "iopub.status.busy": "2023-10-20T14:32:37.909839Z",
     "iopub.status.idle": "2023-10-20T14:32:37.927433Z",
     "shell.execute_reply": "2023-10-20T14:32:37.926342Z",
     "shell.execute_reply.started": "2023-10-20T14:32:37.910218Z"
    },
    "papermill": {
     "duration": null,
     "end_time": null,
     "exception": null,
     "start_time": null,
     "status": "pending"
    },
    "tags": []
   },
   "outputs": [],
   "source": [
    "#Training the model\n",
    "new_data=data.copy()\n",
    "new_data.head(2)"
   ]
  },
  {
   "cell_type": "code",
   "execution_count": null,
   "id": "064bdac0",
   "metadata": {
    "execution": {
     "iopub.execute_input": "2023-10-20T14:35:21.430012Z",
     "iopub.status.busy": "2023-10-20T14:35:21.429627Z",
     "iopub.status.idle": "2023-10-20T14:35:22.517976Z",
     "shell.execute_reply": "2023-10-20T14:35:22.516455Z",
     "shell.execute_reply.started": "2023-10-20T14:35:21.429980Z"
    },
    "papermill": {
     "duration": null,
     "end_time": null,
     "exception": null,
     "start_time": null,
     "status": "pending"
    },
    "tags": []
   },
   "outputs": [],
   "source": [
    "new_data=new_data.drop(['date','street','statezip'],axis=1)"
   ]
  },
  {
   "cell_type": "code",
   "execution_count": null,
   "id": "bbcc42c9",
   "metadata": {
    "execution": {
     "iopub.execute_input": "2023-10-20T14:38:40.760290Z",
     "iopub.status.busy": "2023-10-20T14:38:40.759948Z",
     "iopub.status.idle": "2023-10-20T14:38:40.766157Z",
     "shell.execute_reply": "2023-10-20T14:38:40.765397Z",
     "shell.execute_reply.started": "2023-10-20T14:38:40.760263Z"
    },
    "papermill": {
     "duration": null,
     "end_time": null,
     "exception": null,
     "start_time": null,
     "status": "pending"
    },
    "tags": []
   },
   "outputs": [],
   "source": [
    "print(\"New shape of datasets\",new_data.shape)\n",
    "new_data.head()\n",
    "\n",
    "b=(new_data.columns)"
   ]
  },
  {
   "cell_type": "code",
   "execution_count": null,
   "id": "6c8f94e9",
   "metadata": {
    "execution": {
     "iopub.execute_input": "2023-10-20T16:02:54.739152Z",
     "iopub.status.busy": "2023-10-20T16:02:54.738725Z",
     "iopub.status.idle": "2023-10-20T16:02:55.304126Z",
     "shell.execute_reply": "2023-10-20T16:02:55.302853Z",
     "shell.execute_reply.started": "2023-10-20T16:02:54.739111Z"
    },
    "papermill": {
     "duration": null,
     "end_time": null,
     "exception": null,
     "start_time": null,
     "status": "pending"
    },
    "tags": []
   },
   "outputs": [],
   "source": [
    "#Converting text data into numerical form\n",
    "import pandas as pd\n",
    "\n",
    "new_data['city']=pd.factorize(new_data['city'])[0]\n",
    "new_data['country']=pd.factorize(new_data['city'])[0]"
   ]
  },
  {
   "cell_type": "code",
   "execution_count": null,
   "id": "dc7c745f",
   "metadata": {
    "papermill": {
     "duration": null,
     "end_time": null,
     "exception": null,
     "start_time": null,
     "status": "pending"
    },
    "tags": []
   },
   "outputs": [],
   "source": []
  },
  {
   "cell_type": "code",
   "execution_count": null,
   "id": "82220b25",
   "metadata": {
    "papermill": {
     "duration": null,
     "end_time": null,
     "exception": null,
     "start_time": null,
     "status": "pending"
    },
    "tags": []
   },
   "outputs": [],
   "source": []
  }
 ],
 "metadata": {
  "kernelspec": {
   "display_name": "Python 3",
   "language": "python",
   "name": "python3"
  },
  "language_info": {
   "codemirror_mode": {
    "name": "ipython",
    "version": 3
   },
   "file_extension": ".py",
   "mimetype": "text/x-python",
   "name": "python",
   "nbconvert_exporter": "python",
   "pygments_lexer": "ipython3",
   "version": "3.10.12"
  },
  "papermill": {
   "default_parameters": {},
   "duration": 3.951807,
   "end_time": "2023-10-20T16:08:42.994154",
   "environment_variables": {},
   "exception": true,
   "input_path": "__notebook__.ipynb",
   "output_path": "__notebook__.ipynb",
   "parameters": {},
   "start_time": "2023-10-20T16:08:39.042347",
   "version": "2.4.0"
  }
 },
 "nbformat": 4,
 "nbformat_minor": 5
}
